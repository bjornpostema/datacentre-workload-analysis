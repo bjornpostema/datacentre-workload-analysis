{
 "cells": [
  {
   "cell_type": "markdown",
   "metadata": {},
   "source": [
    "# Data Analysis of the Search Queries Data Set\n",
    "This document regards the data analysis of a data centre containing 10 nodes, which main job is to respond to search queries send to these nodes send by customers via the Internet. The data range from 10th of August, 2016 to 31th of August, 2016; and from 26th of September, 2016 to 17th of October, 2016. The total set contains about 7.6 Million/19.6 Million entries/rows and its size is unpacked about 550 MB/1401 MB in comma seperated CSV format and packed about 71 MB/211 MB in GZIP format. The data set contains information about date & time, service node identifiers (cluster_host), request method, response size, status code, duration and processing duration of each job.\n",
    "\n",
    "The main purpose of this document is to discover workload in a meanful way, that will serve as an input for the *data centre simulation framework* (DCSF) in AnyLogic. DCSF is capable of handling many styles of input. This meanful way would be more valuable if it is reproducable. Therefore, Jupyter Notebook is used to document and write code. *Jupyter Notebook* is used together with *Python* that import the libraries *Pandas* for data science, *NumPy* for numerical math and *Matplotlib* for plotting purposes.\n",
    "\n",
    "Meaningful workload obtained in this document is considered to be on hourly basis. The probability density function of each hour is estimated with a histogram for each hour. This data can serve as an input to the DCSF as a custom probability distribution. This custom probilability distrubution can then serve during that hour to determine the inter-arrival time between jobs.\n",
    "\n",
    "The first main issue encountered in this approach is the the various sizes of the jobs. So, if job have various sizes, the DCSF should take care of this. Beside this we need to determine what can be said about the service rates.\n",
    "\n",
    "The data set used in this analysis is external and not accessible. Yet, the most valuable output and code for reproducability is displayed below. The data set is stored in a Dutch storage company called *Stack*, who claims to have high security and to be independant from unwanted external observers. The server of Jupyter Notebook is currently situated at University of Twente."
   ]
  },
  {
   "cell_type": "markdown",
   "metadata": {},
   "source": [
    "# 1. Preparations"
   ]
  },
  {
   "cell_type": "markdown",
   "metadata": {},
   "source": [
    "## 1.1. Import most relevant libraries"
   ]
  },
  {
   "cell_type": "code",
   "execution_count": 1,
   "metadata": {
    "collapsed": true
   },
   "outputs": [],
   "source": [
    "# Use the libraries for pandas, numpy and matplot\n",
    "# These libraries are all executed in Python\n",
    "import pandas as pd\n",
    "import numpy as np\n",
    "import matplotlib.pyplot as plt\n",
    "%matplotlib inline\n",
    "\n",
    "import warnings\n",
    "warnings.filterwarnings('ignore')\n",
    "\n",
    "# Make the graphs a bit prettier, and bigger\n",
    "#pd.set_option('display.mpl_style', 'default') \n",
    "#pd.set_option('display.max_columns', 60) \n",
    "\n",
    "# Additional plotting capabilities:\n",
    "# import plotly\n",
    "# plotly.offline.init_notebook_mode()"
   ]
  },
  {
   "cell_type": "markdown",
   "metadata": {},
   "source": [
    "## 1.2. Read external CSV file"
   ]
  },
  {
   "cell_type": "code",
   "execution_count": 2,
   "metadata": {
    "collapsed": true
   },
   "outputs": [],
   "source": [
    "location = 'datasets/Betterbe-Dataset2.csv.gz'\n",
    "df0 = pd.read_csv(location, \n",
    "        compression='gzip', error_bad_lines=False, sep=',', names = \\\n",
    "                ['datetime', 'dataset_id', 'cluster_host',\\\n",
    "                'request_method', 'response_size', 'status_code',\\\n",
    "                'duration', 'duration_processing'])"
   ]
  },
  {
   "cell_type": "markdown",
   "metadata": {},
   "source": [
    "## 1.3. Example output"
   ]
  },
  {
   "cell_type": "code",
   "execution_count": 37,
   "metadata": {},
   "outputs": [
    {
     "name": "stdout",
     "output_type": "stream",
     "text": [
      "Wall time: 0 ns\n"
     ]
    },
    {
     "data": {
      "text/html": [
       "<div>\n",
       "<table border=\"1\" class=\"dataframe\">\n",
       "  <thead>\n",
       "    <tr style=\"text-align: right;\">\n",
       "      <th></th>\n",
       "      <th>datetime</th>\n",
       "      <th>dataset_id</th>\n",
       "      <th>cluster_host</th>\n",
       "      <th>request_method</th>\n",
       "      <th>response_size</th>\n",
       "      <th>status_code</th>\n",
       "      <th>duration</th>\n",
       "      <th>duration_processing</th>\n",
       "    </tr>\n",
       "  </thead>\n",
       "  <tbody>\n",
       "    <tr>\n",
       "      <th>0</th>\n",
       "      <td>2016-09-26 00:00:02.817</td>\n",
       "      <td>27</td>\n",
       "      <td>jaws06.data.be.nl</td>\n",
       "      <td>GET</td>\n",
       "      <td>20453.0</td>\n",
       "      <td>200</td>\n",
       "      <td>63</td>\n",
       "      <td>62</td>\n",
       "    </tr>\n",
       "    <tr>\n",
       "      <th>1</th>\n",
       "      <td>2016-09-26 00:00:04.945</td>\n",
       "      <td>27</td>\n",
       "      <td>jaws07.data.be.nl</td>\n",
       "      <td>GET</td>\n",
       "      <td>920.0</td>\n",
       "      <td>200</td>\n",
       "      <td>9</td>\n",
       "      <td>9</td>\n",
       "    </tr>\n",
       "    <tr>\n",
       "      <th>2</th>\n",
       "      <td>2016-09-26 00:00:05.067</td>\n",
       "      <td>27</td>\n",
       "      <td>jaws08.data.be.nl</td>\n",
       "      <td>GET</td>\n",
       "      <td>122078.0</td>\n",
       "      <td>200</td>\n",
       "      <td>256</td>\n",
       "      <td>155</td>\n",
       "    </tr>\n",
       "    <tr>\n",
       "      <th>3</th>\n",
       "      <td>2016-09-26 00:00:06.863</td>\n",
       "      <td>24</td>\n",
       "      <td>jaws04.data.be.nl</td>\n",
       "      <td>GET</td>\n",
       "      <td>3178.0</td>\n",
       "      <td>200</td>\n",
       "      <td>22</td>\n",
       "      <td>14</td>\n",
       "    </tr>\n",
       "    <tr>\n",
       "      <th>4</th>\n",
       "      <td>2016-09-26 00:00:06.931</td>\n",
       "      <td>24</td>\n",
       "      <td>jaws02.data.be.nl</td>\n",
       "      <td>GET</td>\n",
       "      <td>3241.0</td>\n",
       "      <td>200</td>\n",
       "      <td>27</td>\n",
       "      <td>22</td>\n",
       "    </tr>\n",
       "    <tr>\n",
       "      <th>5</th>\n",
       "      <td>2016-09-26 00:00:07.002</td>\n",
       "      <td>24</td>\n",
       "      <td>jaws04.data.be.nl</td>\n",
       "      <td>GET</td>\n",
       "      <td>6591.0</td>\n",
       "      <td>200</td>\n",
       "      <td>60</td>\n",
       "      <td>41</td>\n",
       "    </tr>\n",
       "    <tr>\n",
       "      <th>6</th>\n",
       "      <td>2016-09-26 00:00:07.698</td>\n",
       "      <td>24</td>\n",
       "      <td>jaws05.data.be.nl</td>\n",
       "      <td>GET</td>\n",
       "      <td>3178.0</td>\n",
       "      <td>200</td>\n",
       "      <td>31</td>\n",
       "      <td>20</td>\n",
       "    </tr>\n",
       "    <tr>\n",
       "      <th>7</th>\n",
       "      <td>2016-09-26 00:00:07.764</td>\n",
       "      <td>24</td>\n",
       "      <td>jaws03.data.be.nl</td>\n",
       "      <td>GET</td>\n",
       "      <td>3241.0</td>\n",
       "      <td>200</td>\n",
       "      <td>24</td>\n",
       "      <td>19</td>\n",
       "    </tr>\n",
       "    <tr>\n",
       "      <th>8</th>\n",
       "      <td>2016-09-26 00:00:07.823</td>\n",
       "      <td>24</td>\n",
       "      <td>jaws01.data.be.nl</td>\n",
       "      <td>GET</td>\n",
       "      <td>24594.0</td>\n",
       "      <td>200</td>\n",
       "      <td>184</td>\n",
       "      <td>121</td>\n",
       "    </tr>\n",
       "    <tr>\n",
       "      <th>9</th>\n",
       "      <td>2016-09-26 00:00:10.497</td>\n",
       "      <td>12</td>\n",
       "      <td>jaws03.data.be.nl</td>\n",
       "      <td>GET</td>\n",
       "      <td>432411.0</td>\n",
       "      <td>200</td>\n",
       "      <td>201</td>\n",
       "      <td>126</td>\n",
       "    </tr>\n",
       "  </tbody>\n",
       "</table>\n",
       "</div>"
      ],
      "text/plain": [
       "                  datetime  dataset_id       cluster_host request_method  \\\n",
       "0  2016-09-26 00:00:02.817          27  jaws06.data.be.nl            GET   \n",
       "1  2016-09-26 00:00:04.945          27  jaws07.data.be.nl            GET   \n",
       "2  2016-09-26 00:00:05.067          27  jaws08.data.be.nl            GET   \n",
       "3  2016-09-26 00:00:06.863          24  jaws04.data.be.nl            GET   \n",
       "4  2016-09-26 00:00:06.931          24  jaws02.data.be.nl            GET   \n",
       "5  2016-09-26 00:00:07.002          24  jaws04.data.be.nl            GET   \n",
       "6  2016-09-26 00:00:07.698          24  jaws05.data.be.nl            GET   \n",
       "7  2016-09-26 00:00:07.764          24  jaws03.data.be.nl            GET   \n",
       "8  2016-09-26 00:00:07.823          24  jaws01.data.be.nl            GET   \n",
       "9  2016-09-26 00:00:10.497          12  jaws03.data.be.nl            GET   \n",
       "\n",
       "   response_size  status_code  duration  duration_processing  \n",
       "0        20453.0          200        63                   62  \n",
       "1          920.0          200         9                    9  \n",
       "2       122078.0          200       256                  155  \n",
       "3         3178.0          200        22                   14  \n",
       "4         3241.0          200        27                   22  \n",
       "5         6591.0          200        60                   41  \n",
       "6         3178.0          200        31                   20  \n",
       "7         3241.0          200        24                   19  \n",
       "8        24594.0          200       184                  121  \n",
       "9       432411.0          200       201                  126  "
      ]
     },
     "execution_count": 37,
     "metadata": {},
     "output_type": "execute_result"
    }
   ],
   "source": [
    "%time df0.head(100)"
   ]
  },
  {
   "cell_type": "code",
   "execution_count": 3,
   "metadata": {},
   "outputs": [
    {
     "data": {
      "text/plain": [
       "datetime               19687178\n",
       "dataset_id             19687178\n",
       "cluster_host           19687178\n",
       "request_method         19687178\n",
       "response_size          15940744\n",
       "status_code            19687178\n",
       "duration               19687178\n",
       "duration_processing    19687178\n",
       "dtype: int64"
      ]
     },
     "execution_count": 3,
     "metadata": {},
     "output_type": "execute_result"
    }
   ],
   "source": [
    "df0.count()"
   ]
  },
  {
   "cell_type": "markdown",
   "metadata": {},
   "source": [
    "# 2. Analysis"
   ]
  },
  {
   "cell_type": "markdown",
   "metadata": {},
   "source": [
    "## 2.1. Analysing the entire dataset"
   ]
  },
  {
   "cell_type": "code",
   "execution_count": 10,
   "metadata": {},
   "outputs": [
    {
     "data": {
      "text/plain": [
       "(3216, 0, 127522736, 18000424, 11970520, 528, 0, 157497424, 157497424)"
      ]
     },
     "execution_count": 10,
     "metadata": {},
     "output_type": "execute_result"
    }
   ],
   "source": [
    "s0 = df0[df0['status_code'] < 100]\n",
    "s100 = df0[df0['status_code'] >= 100][df0['status_code'] < 200]\n",
    "s200 = df0[df0['status_code'] >= 200][df0['status_code'] < 300]\n",
    "s300 = df0[df0['status_code'] >= 300][df0['status_code'] < 400]\n",
    "s400 = df0[df0['status_code'] >= 400][df0['status_code'] < 500]\n",
    "s500 = df0[df0['status_code'] >= 500][df0['status_code'] < 600]\n",
    "s600 = df0[df0['status_code'] >= 600]\n",
    "\n",
    "# 0+ Onbekend\n",
    "# 100+ Mededelend\n",
    "# 200+ Goed gevolg\n",
    "# 300+ Omleiding\n",
    "# 400+ Aanvraagfout\n",
    "# 500+ Serverfout\n",
    "# 600+ Onbekend\n",
    "\n",
    "sall = df0\n",
    "s0.size,s100.size,s200.size,s300.size,s400.size,s500.size,s600.size,\\\n",
    "    s0.size+s100.size+s200.size+s300.size+s400.size+s500.size+s600.size,\\\n",
    "    sall.size"
   ]
  },
  {
   "cell_type": "code",
   "execution_count": 11,
   "metadata": {
    "collapsed": true
   },
   "outputs": [],
   "source": [
    "sall_clean = df0.dropna(subset=['response_size'])"
   ]
  },
  {
   "cell_type": "code",
   "execution_count": 6,
   "metadata": {
    "collapsed": true
   },
   "outputs": [],
   "source": [
    "#df0.index = df0['datetime']\n",
    "#del df0['datetime']\n",
    "#df0.head(10)"
   ]
  },
  {
   "cell_type": "code",
   "execution_count": 12,
   "metadata": {},
   "outputs": [
    {
     "data": {
      "text/html": [
       "<div>\n",
       "<table border=\"1\" class=\"dataframe\">\n",
       "  <thead>\n",
       "    <tr style=\"text-align: right;\">\n",
       "      <th></th>\n",
       "      <th>datetime</th>\n",
       "      <th>dataset_id</th>\n",
       "      <th>cluster_host</th>\n",
       "      <th>request_method</th>\n",
       "      <th>response_size</th>\n",
       "      <th>status_code</th>\n",
       "      <th>duration</th>\n",
       "      <th>duration_processing</th>\n",
       "    </tr>\n",
       "  </thead>\n",
       "  <tbody>\n",
       "    <tr>\n",
       "      <th>0</th>\n",
       "      <td>2016-09-26 00:00:02.817</td>\n",
       "      <td>27</td>\n",
       "      <td>jaws06.data.be.nl</td>\n",
       "      <td>GET</td>\n",
       "      <td>20453.0</td>\n",
       "      <td>200</td>\n",
       "      <td>63</td>\n",
       "      <td>62</td>\n",
       "    </tr>\n",
       "    <tr>\n",
       "      <th>1</th>\n",
       "      <td>2016-09-26 00:00:04.945</td>\n",
       "      <td>27</td>\n",
       "      <td>jaws07.data.be.nl</td>\n",
       "      <td>GET</td>\n",
       "      <td>920.0</td>\n",
       "      <td>200</td>\n",
       "      <td>9</td>\n",
       "      <td>9</td>\n",
       "    </tr>\n",
       "    <tr>\n",
       "      <th>2</th>\n",
       "      <td>2016-09-26 00:00:05.067</td>\n",
       "      <td>27</td>\n",
       "      <td>jaws08.data.be.nl</td>\n",
       "      <td>GET</td>\n",
       "      <td>122078.0</td>\n",
       "      <td>200</td>\n",
       "      <td>256</td>\n",
       "      <td>155</td>\n",
       "    </tr>\n",
       "    <tr>\n",
       "      <th>3</th>\n",
       "      <td>2016-09-26 00:00:06.863</td>\n",
       "      <td>24</td>\n",
       "      <td>jaws04.data.be.nl</td>\n",
       "      <td>GET</td>\n",
       "      <td>3178.0</td>\n",
       "      <td>200</td>\n",
       "      <td>22</td>\n",
       "      <td>14</td>\n",
       "    </tr>\n",
       "    <tr>\n",
       "      <th>4</th>\n",
       "      <td>2016-09-26 00:00:06.931</td>\n",
       "      <td>24</td>\n",
       "      <td>jaws02.data.be.nl</td>\n",
       "      <td>GET</td>\n",
       "      <td>3241.0</td>\n",
       "      <td>200</td>\n",
       "      <td>27</td>\n",
       "      <td>22</td>\n",
       "    </tr>\n",
       "    <tr>\n",
       "      <th>5</th>\n",
       "      <td>2016-09-26 00:00:07.002</td>\n",
       "      <td>24</td>\n",
       "      <td>jaws04.data.be.nl</td>\n",
       "      <td>GET</td>\n",
       "      <td>6591.0</td>\n",
       "      <td>200</td>\n",
       "      <td>60</td>\n",
       "      <td>41</td>\n",
       "    </tr>\n",
       "    <tr>\n",
       "      <th>6</th>\n",
       "      <td>2016-09-26 00:00:07.698</td>\n",
       "      <td>24</td>\n",
       "      <td>jaws05.data.be.nl</td>\n",
       "      <td>GET</td>\n",
       "      <td>3178.0</td>\n",
       "      <td>200</td>\n",
       "      <td>31</td>\n",
       "      <td>20</td>\n",
       "    </tr>\n",
       "    <tr>\n",
       "      <th>7</th>\n",
       "      <td>2016-09-26 00:00:07.764</td>\n",
       "      <td>24</td>\n",
       "      <td>jaws03.data.be.nl</td>\n",
       "      <td>GET</td>\n",
       "      <td>3241.0</td>\n",
       "      <td>200</td>\n",
       "      <td>24</td>\n",
       "      <td>19</td>\n",
       "    </tr>\n",
       "    <tr>\n",
       "      <th>8</th>\n",
       "      <td>2016-09-26 00:00:07.823</td>\n",
       "      <td>24</td>\n",
       "      <td>jaws01.data.be.nl</td>\n",
       "      <td>GET</td>\n",
       "      <td>24594.0</td>\n",
       "      <td>200</td>\n",
       "      <td>184</td>\n",
       "      <td>121</td>\n",
       "    </tr>\n",
       "    <tr>\n",
       "      <th>9</th>\n",
       "      <td>2016-09-26 00:00:10.497</td>\n",
       "      <td>12</td>\n",
       "      <td>jaws03.data.be.nl</td>\n",
       "      <td>GET</td>\n",
       "      <td>432411.0</td>\n",
       "      <td>200</td>\n",
       "      <td>201</td>\n",
       "      <td>126</td>\n",
       "    </tr>\n",
       "  </tbody>\n",
       "</table>\n",
       "</div>"
      ],
      "text/plain": [
       "                  datetime  dataset_id       cluster_host request_method  \\\n",
       "0  2016-09-26 00:00:02.817          27  jaws06.data.be.nl            GET   \n",
       "1  2016-09-26 00:00:04.945          27  jaws07.data.be.nl            GET   \n",
       "2  2016-09-26 00:00:05.067          27  jaws08.data.be.nl            GET   \n",
       "3  2016-09-26 00:00:06.863          24  jaws04.data.be.nl            GET   \n",
       "4  2016-09-26 00:00:06.931          24  jaws02.data.be.nl            GET   \n",
       "5  2016-09-26 00:00:07.002          24  jaws04.data.be.nl            GET   \n",
       "6  2016-09-26 00:00:07.698          24  jaws05.data.be.nl            GET   \n",
       "7  2016-09-26 00:00:07.764          24  jaws03.data.be.nl            GET   \n",
       "8  2016-09-26 00:00:07.823          24  jaws01.data.be.nl            GET   \n",
       "9  2016-09-26 00:00:10.497          12  jaws03.data.be.nl            GET   \n",
       "\n",
       "   response_size  status_code  duration  duration_processing  \n",
       "0        20453.0          200        63                   62  \n",
       "1          920.0          200         9                    9  \n",
       "2       122078.0          200       256                  155  \n",
       "3         3178.0          200        22                   14  \n",
       "4         3241.0          200        27                   22  \n",
       "5         6591.0          200        60                   41  \n",
       "6         3178.0          200        31                   20  \n",
       "7         3241.0          200        24                   19  \n",
       "8        24594.0          200       184                  121  \n",
       "9       432411.0          200       201                  126  "
      ]
     },
     "execution_count": 12,
     "metadata": {},
     "output_type": "execute_result"
    }
   ],
   "source": [
    "sall_clean.head(10)"
   ]
  },
  {
   "cell_type": "code",
   "execution_count": 13,
   "metadata": {},
   "outputs": [
    {
     "data": {
      "text/plain": [
       "346.4743722752213"
      ]
     },
     "execution_count": 13,
     "metadata": {},
     "output_type": "execute_result"
    }
   ],
   "source": [
    "sall_clean['duration_processing'].mean()\n",
    "# Mean duration of job processing in milliseconds"
   ]
  },
  {
   "cell_type": "code",
   "execution_count": 14,
   "metadata": {},
   "outputs": [
    {
     "data": {
      "text/plain": [
       "361.915585495884"
      ]
     },
     "execution_count": 14,
     "metadata": {},
     "output_type": "execute_result"
    }
   ],
   "source": [
    "sall_clean['duration'].mean()\n",
    "# Mean duration of job handling in milliseconds"
   ]
  },
  {
   "cell_type": "code",
   "execution_count": 15,
   "metadata": {},
   "outputs": [
    {
     "data": {
      "text/plain": [
       "15.44121322066269"
      ]
     },
     "execution_count": 15,
     "metadata": {},
     "output_type": "execute_result"
    }
   ],
   "source": [
    "sall_clean['duration'].mean()-sall_clean['duration_processing'].mean()\n",
    "# Expected network latency in milliseconds"
   ]
  },
  {
   "cell_type": "code",
   "execution_count": 17,
   "metadata": {},
   "outputs": [
    {
     "data": {
      "text/plain": [
       "<matplotlib.axes._subplots.AxesSubplot at 0xc1d37470>"
      ]
     },
     "execution_count": 17,
     "metadata": {},
     "output_type": "execute_result"
    },
    {
     "data": {
      "image/png": "[encoded data removed]",
      "text/plain": [
       "<matplotlib.figure.Figure at 0x12065cb00>"
      ]
     },
     "metadata": {},
     "output_type": "display_data"
    }
   ],
   "source": [
    "sall_clean['duration'][sall_clean['duration'] < 400]\\\n",
    "    .hist(bins=400,figsize=(20,5))"
   ]
  },
  {
   "cell_type": "code",
   "execution_count": 16,
   "metadata": {},
   "outputs": [
    {
     "data": {
      "text/plain": [
       "<matplotlib.axes._subplots.AxesSubplot at 0x63f42b0>"
      ]
     },
     "execution_count": 16,
     "metadata": {},
     "output_type": "execute_result"
    },
    {
     "data": {
      "image/png": "[encoded data removed]",
      "text/plain": [
       "<matplotlib.figure.Figure at 0x4e9aac8>"
      ]
     },
     "metadata": {},
     "output_type": "display_data"
    }
   ],
   "source": [
    "sall_clean['duration_processing'][sall_clean['duration_processing'] < 400]\\\n",
    "    .hist(bins=400,figsize=(20,5))"
   ]
  },
  {
   "cell_type": "markdown",
   "metadata": {},
   "source": [
    "## 2.2. Analysing individual hosts"
   ]
  },
  {
   "cell_type": "code",
   "execution_count": 18,
   "metadata": {},
   "outputs": [
    {
     "data": {
      "text/plain": [
       "(363.37277545977315,\n",
       " 314.62609565291694,\n",
       " 343.2898743282698,\n",
       " 366.0581282351531,\n",
       " 376.8860900868163,\n",
       " 359.7692577928106,\n",
       " 359.56102656378664,\n",
       " 416.4833476579287,\n",
       " 357.5704496684261)"
      ]
     },
     "execution_count": 18,
     "metadata": {},
     "output_type": "execute_result"
    }
   ],
   "source": [
    "server1d = sall_clean['duration']\\\n",
    "    [sall_clean['cluster_host'] == 'jaws01.data.be.nl'].mean()\n",
    "server2d = sall_clean['duration']\\\n",
    "    [sall_clean['cluster_host'] == 'jaws02.data.be.nl'].mean()\n",
    "server3d = sall_clean['duration']\\\n",
    "    [sall_clean['cluster_host'] == 'jaws03.data.be.nl'].mean()\n",
    "server4d = sall_clean['duration']\\\n",
    "    [sall_clean['cluster_host'] == 'jaws04.data.be.nl'].mean()\n",
    "server5d = sall_clean['duration']\\\n",
    "    [sall_clean['cluster_host'] == 'jaws05.data.be.nl'].mean()\n",
    "server6d = sall_clean['duration']\\\n",
    "    [sall_clean['cluster_host'] == 'jaws06.data.be.nl'].mean()\n",
    "server7d = sall_clean['duration']\\\n",
    "    [sall_clean['cluster_host'] == 'jaws07.data.be.nl'].mean()\n",
    "server8d = sall_clean['duration']\\\n",
    "    [sall_clean['cluster_host'] == 'jaws08.data.be.nl'].mean()\n",
    "server9d = sall_clean['duration']\\\n",
    "    [sall_clean['cluster_host'] == 'jaws09.data.be.nl'].mean()\n",
    "server10d = sall_clean['duration']\\\n",
    "    [sall_clean['cluster_host'] == 'jaws10.data.be.nl'].mean()\n",
    "server1d,server2d,server3d,server4d,server5d,\\\n",
    "    server6d,server7d,server8d,server9d\n",
    "# Mean duration of jobs handling in milliseconds per server"
   ]
  },
  {
   "cell_type": "code",
   "execution_count": 20,
   "metadata": {},
   "outputs": [
    {
     "data": {
      "text/plain": [
       "(349.0477566098928,\n",
       " 300.35852023331955,\n",
       " 328.9663656751153,\n",
       " 351.6499324482868,\n",
       " 361.8292018464788,\n",
       " 344.53047909499816,\n",
       " 342.1877916374394,\n",
       " 399.65716192070204,\n",
       " 340.4143319029261)"
      ]
     },
     "execution_count": 20,
     "metadata": {},
     "output_type": "execute_result"
    }
   ],
   "source": [
    "server1dp = sall_clean['duration_processing']\\\n",
    "    [sall_clean['cluster_host'] == 'jaws01.data.be.nl'].mean()\n",
    "server2dp = sall_clean['duration_processing']\\\n",
    "    [sall_clean['cluster_host'] == 'jaws02.data.be.nl'].mean()\n",
    "server3dp = sall_clean['duration_processing']\\\n",
    "    [sall_clean['cluster_host'] == 'jaws03.data.be.nl'].mean()\n",
    "server4dp = sall_clean['duration_processing']\\\n",
    "    [sall_clean['cluster_host'] == 'jaws04.data.be.nl'].mean()\n",
    "server5dp = sall_clean['duration_processing']\\\n",
    "    [sall_clean['cluster_host'] == 'jaws05.data.be.nl'].mean()\n",
    "server6dp = sall_clean['duration_processing']\\\n",
    "    [sall_clean['cluster_host'] == 'jaws06.data.be.nl'].mean()\n",
    "server7dp = sall_clean['duration_processing']\\\n",
    "    [sall_clean['cluster_host'] == 'jaws07.data.be.nl'].mean()\n",
    "server8dp = sall_clean['duration_processing']\\\n",
    "    [sall_clean['cluster_host'] == 'jaws08.data.be.nl'].mean()\n",
    "server9dp = sall_clean['duration_processing']\\\n",
    "    [sall_clean['cluster_host'] == 'jaws09.data.be.nl'].mean()\n",
    "server10dp = sall_clean['duration_processing']\\\n",
    "    [sall_clean['cluster_host'] == 'jaws10.data.be.nl'].mean()\n",
    "server1dp,server2dp,server3dp,server4dp,server5dp,\\\n",
    "    server6dp,server7dp,server8dp,server9dp\n",
    "# Mean job processing duration in milliseconds per server"
   ]
  },
  {
   "cell_type": "code",
   "execution_count": 21,
   "metadata": {},
   "outputs": [
    {
     "data": {
      "text/plain": [
       "(14.325018849880337,\n",
       " 14.267575419597392,\n",
       " 14.323508653154477,\n",
       " 14.408195786866315,\n",
       " 15.056888240337514,\n",
       " 15.23877869781245,\n",
       " 17.373234926347266,\n",
       " 16.826185737226638,\n",
       " 17.15611776549997)"
      ]
     },
     "execution_count": 21,
     "metadata": {},
     "output_type": "execute_result"
    }
   ],
   "source": [
    "server1d-server1dp,server2d-server2dp,server3d-server3dp,\\\n",
    "    server4d-server4dp,server5d-server5dp,server6d-server6dp,\\\n",
    "    server7d-server7dp,server8d-server8dp,server9d-server9dp\n",
    "# Expected network latency in milliseconds per server"
   ]
  },
  {
   "cell_type": "markdown",
   "metadata": {
    "collapsed": true
   },
   "source": [
    "## 2.3. Analysing Hourly Day-Night Pattern"
   ]
  },
  {
   "cell_type": "code",
   "execution_count": 32,
   "metadata": {
    "collapsed": true
   },
   "outputs": [],
   "source": [
    "firstday = sall_clean.loc[(sall_clean['datetime'] >= '2016-09-26 00:00:00.000') \n",
    "        & (sall_clean['datetime'] < '2016-09-27 00:00:00.000')]\n",
    "secondday = sall_clean.loc[(sall_clean['datetime'] >= '2016-09-27 00:00:00.000') \n",
    "        & (sall_clean['datetime'] < '2016-09-28 00:00:00.000')]\n",
    "firsthour = sall_clean.loc[(sall_clean['datetime'] >= '2016-09-26 00:00:00.000') \n",
    "        & (sall_clean['datetime'] < '2016-09-26 00:01:00.000')]\n",
    "secondhour = sall_clean.loc[(sall_clean['datetime'] >= '2016-09-26 00:01:00.000') \n",
    "        & (sall_clean['datetime'] < '2016-09-26 00:02:00.000')]\n",
    "ninethhour = sall_clean.loc[(sall_clean['datetime'] >= '2016-09-26 00:09:00.000') \n",
    "        & (sall_clean['datetime'] < '2016-09-26 00:10:00.000')]\n",
    "twelfthhour = sall_clean.loc[(sall_clean['datetime'] >= '2016-09-26 00:12:00.000') \n",
    "        & (sall_clean['datetime'] < '2016-09-26 00:13:00.000')]"
   ]
  },
  {
   "cell_type": "code",
   "execution_count": 26,
   "metadata": {},
   "outputs": [
    {
     "data": {
      "text/plain": [
       "<matplotlib.axes._subplots.AxesSubplot at 0x4e072da0>"
      ]
     },
     "execution_count": 26,
     "metadata": {},
     "output_type": "execute_result"
    },
    {
     "data": {
      "image/png": "[encoded data removed]",
      "text/plain": [
       "<matplotlib.figure.Figure at 0xd497f98>"
      ]
     },
     "metadata": {},
     "output_type": "display_data"
    }
   ],
   "source": [
    "firstday['duration_processing'][firstday['duration_processing'] < 400]\\\n",
    "    .hist(bins=400,figsize=(20,5))"
   ]
  },
  {
   "cell_type": "code",
   "execution_count": 27,
   "metadata": {},
   "outputs": [
    {
     "data": {
      "text/plain": [
       "<matplotlib.axes._subplots.AxesSubplot at 0x4ea5bfd0>"
      ]
     },
     "execution_count": 27,
     "metadata": {},
     "output_type": "execute_result"
    },
    {
     "data": {
      "image/png": "[encoded data removed]",
      "text/plain": [
       "<matplotlib.figure.Figure at 0x4d73b438>"
      ]
     },
     "metadata": {},
     "output_type": "display_data"
    }
   ],
   "source": [
    "secondday['duration_processing'][secondday['duration_processing'] < 400]\\\n",
    "    .hist(bins=400,figsize=(20,5))"
   ]
  },
  {
   "cell_type": "code",
   "execution_count": 28,
   "metadata": {},
   "outputs": [
    {
     "data": {
      "text/plain": [
       "<matplotlib.axes._subplots.AxesSubplot at 0x4ebdacf8>"
      ]
     },
     "execution_count": 28,
     "metadata": {},
     "output_type": "execute_result"
    },
    {
     "data": {
      "image/png": "[encoded data removed]",
      "text/plain": [
       "<matplotlib.figure.Figure at 0x4eebd630>"
      ]
     },
     "metadata": {},
     "output_type": "display_data"
    }
   ],
   "source": [
    "firsthour['duration_processing'][firsthour['duration_processing'] < 400]\\\n",
    "    .hist(bins=400,figsize=(20,5))"
   ]
  },
  {
   "cell_type": "code",
   "execution_count": 29,
   "metadata": {},
   "outputs": [
    {
     "data": {
      "text/plain": [
       "<matplotlib.axes._subplots.AxesSubplot at 0x56584f28>"
      ]
     },
     "execution_count": 29,
     "metadata": {},
     "output_type": "execute_result"
    },
    {
     "data": {
      "image/png": "[encoded data removed]",
      "text/plain": [
       "<matplotlib.figure.Figure at 0x4ee0ab38>"
      ]
     },
     "metadata": {},
     "output_type": "display_data"
    }
   ],
   "source": [
    "secondhour['duration_processing'][secondhour['duration_processing'] < 400]\\\n",
    "    .hist(bins=400,figsize=(20,5))"
   ]
  },
  {
   "cell_type": "code",
   "execution_count": 33,
   "metadata": {},
   "outputs": [
    {
     "data": {
      "text/plain": [
       "<matplotlib.axes._subplots.AxesSubplot at 0x5a59ecf8>"
      ]
     },
     "execution_count": 33,
     "metadata": {},
     "output_type": "execute_result"
    },
    {
     "data": {
      "image/png": "[encoded data removed]",
      "text/plain": [
       "<matplotlib.figure.Figure at 0x566f9710>"
      ]
     },
     "metadata": {},
     "output_type": "display_data"
    }
   ],
   "source": [
    "ninethhour['duration_processing'][ninethhour['duration_processing'] < 400]\\\n",
    "    .hist(bins=400,figsize=(20,5))"
   ]
  },
  {
   "cell_type": "code",
   "execution_count": 34,
   "metadata": {},
   "outputs": [
    {
     "data": {
      "text/plain": [
       "<matplotlib.axes._subplots.AxesSubplot at 0x4f7bef28>"
      ]
     },
     "execution_count": 34,
     "metadata": {},
     "output_type": "execute_result"
    },
    {
     "data": {
      "image/png": "[encoded data removed]",
      "text/plain": [
       "<matplotlib.figure.Figure at 0x5eaf6da0>"
      ]
     },
     "metadata": {},
     "output_type": "display_data"
    }
   ],
   "source": [
    "twelfthhour['duration_processing'][twelfthhour['duration_processing'] < 400]\\\n",
    "    .hist(bins=400,figsize=(20,5))"
   ]
  },
  {
   "cell_type": "code",
   "execution_count": null,
   "metadata": {
    "collapsed": true
   },
   "outputs": [],
   "source": []
  }
 ],
 "metadata": {
  "kernelspec": {
   "display_name": "Python 3",
   "language": "python",
   "name": "python3"
  },
  "language_info": {
   "codemirror_mode": {
    "name": "ipython",
    "version": 3
   },
   "file_extension": ".py",
   "mimetype": "text/x-python",
   "name": "python",
   "nbconvert_exporter": "python",
   "pygments_lexer": "ipython3",
   "version": "3.6.1"
  }
 },
 "nbformat": 4,
 "nbformat_minor": 1
}
